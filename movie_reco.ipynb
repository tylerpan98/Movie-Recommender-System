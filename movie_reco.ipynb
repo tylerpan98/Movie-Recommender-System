{
  "nbformat": 4,
  "nbformat_minor": 0,
  "metadata": {
    "colab": {
      "provenance": [],
      "machine_shape": "hm",
      "gpuType": "A100"
    },
    "kernelspec": {
      "name": "python3",
      "display_name": "Python 3"
    },
    "language_info": {
      "name": "python"
    },
    "accelerator": "GPU"
  },
  "cells": [
    {
      "cell_type": "code",
      "execution_count": null,
      "metadata": {
        "colab": {
          "base_uri": "https://localhost:8080/"
        },
        "id": "51sK_0W_3lpT",
        "outputId": "0c568fea-fe5d-4535-8e37-de3df9611ca7"
      },
      "outputs": [
        {
          "output_type": "stream",
          "name": "stdout",
          "text": [
            "Mounted at /content/drive\n",
            "/content/drive/MyDrive/movie_reco\n"
          ]
        }
      ],
      "source": [
        "from google.colab import drive\n",
        "drive.mount('/content/drive')\n",
        "%cd /content/drive/MyDrive/movie_reco/\n"
      ]
    },
    {
      "cell_type": "code",
      "source": [
        "import pandas as pd\n",
        "import numpy as np\n",
        "\n",
        "movies = pd.read_csv('movies_metadata.csv', low_memory=False)\n",
        "keywords = pd.read_csv('keywords.csv')\n",
        "credits = pd.read_csv('credits.csv')\n",
        "links = pd.read_csv('links.csv')\n",
        "links_small = pd.read_csv('links_small.csv')\n",
        "ratings = pd.read_csv('ratings_small.csv')\n",
        "\n",
        "print(movies.head())\n",
        "print(keywords.head())\n",
        "print(credits.head())\n",
        "print(links.head())\n",
        "print(links_small.head())\n",
        "print(ratings.head())\n"
      ],
      "metadata": {
        "colab": {
          "base_uri": "https://localhost:8080/"
        },
        "id": "lft88YZc4RRZ",
        "outputId": "879826fe-d659-48ad-d70c-b97eb7d7831f"
      },
      "execution_count": null,
      "outputs": [
        {
          "output_type": "stream",
          "name": "stdout",
          "text": [
            "   adult                              belongs_to_collection    budget  \\\n",
            "0  False  {'id': 10194, 'name': 'Toy Story Collection', ...  30000000   \n",
            "1  False                                                NaN  65000000   \n",
            "2  False  {'id': 119050, 'name': 'Grumpy Old Men Collect...         0   \n",
            "3  False                                                NaN  16000000   \n",
            "4  False  {'id': 96871, 'name': 'Father of the Bride Col...         0   \n",
            "\n",
            "                                              genres  \\\n",
            "0  [{'id': 16, 'name': 'Animation'}, {'id': 35, '...   \n",
            "1  [{'id': 12, 'name': 'Adventure'}, {'id': 14, '...   \n",
            "2  [{'id': 10749, 'name': 'Romance'}, {'id': 35, ...   \n",
            "3  [{'id': 35, 'name': 'Comedy'}, {'id': 18, 'nam...   \n",
            "4                     [{'id': 35, 'name': 'Comedy'}]   \n",
            "\n",
            "                               homepage     id    imdb_id original_language  \\\n",
            "0  http://toystory.disney.com/toy-story    862  tt0114709                en   \n",
            "1                                   NaN   8844  tt0113497                en   \n",
            "2                                   NaN  15602  tt0113228                en   \n",
            "3                                   NaN  31357  tt0114885                en   \n",
            "4                                   NaN  11862  tt0113041                en   \n",
            "\n",
            "                original_title  \\\n",
            "0                    Toy Story   \n",
            "1                      Jumanji   \n",
            "2             Grumpier Old Men   \n",
            "3            Waiting to Exhale   \n",
            "4  Father of the Bride Part II   \n",
            "\n",
            "                                            overview  ... release_date  \\\n",
            "0  Led by Woody, Andy's toys live happily in his ...  ...   1995-10-30   \n",
            "1  When siblings Judy and Peter discover an encha...  ...   1995-12-15   \n",
            "2  A family wedding reignites the ancient feud be...  ...   1995-12-22   \n",
            "3  Cheated on, mistreated and stepped on, the wom...  ...   1995-12-22   \n",
            "4  Just when George Banks has recovered from his ...  ...   1995-02-10   \n",
            "\n",
            "       revenue runtime                                   spoken_languages  \\\n",
            "0  373554033.0    81.0           [{'iso_639_1': 'en', 'name': 'English'}]   \n",
            "1  262797249.0   104.0  [{'iso_639_1': 'en', 'name': 'English'}, {'iso...   \n",
            "2          0.0   101.0           [{'iso_639_1': 'en', 'name': 'English'}]   \n",
            "3   81452156.0   127.0           [{'iso_639_1': 'en', 'name': 'English'}]   \n",
            "4   76578911.0   106.0           [{'iso_639_1': 'en', 'name': 'English'}]   \n",
            "\n",
            "     status                                            tagline  \\\n",
            "0  Released                                                NaN   \n",
            "1  Released          Roll the dice and unleash the excitement!   \n",
            "2  Released  Still Yelling. Still Fighting. Still Ready for...   \n",
            "3  Released  Friends are the people who let you be yourself...   \n",
            "4  Released  Just When His World Is Back To Normal... He's ...   \n",
            "\n",
            "                         title  video vote_average vote_count  \n",
            "0                    Toy Story  False          7.7     5415.0  \n",
            "1                      Jumanji  False          6.9     2413.0  \n",
            "2             Grumpier Old Men  False          6.5       92.0  \n",
            "3            Waiting to Exhale  False          6.1       34.0  \n",
            "4  Father of the Bride Part II  False          5.7      173.0  \n",
            "\n",
            "[5 rows x 24 columns]\n",
            "      id                                           keywords\n",
            "0    862  [{'id': 931, 'name': 'jealousy'}, {'id': 4290,...\n",
            "1   8844  [{'id': 10090, 'name': 'board game'}, {'id': 1...\n",
            "2  15602  [{'id': 1495, 'name': 'fishing'}, {'id': 12392...\n",
            "3  31357  [{'id': 818, 'name': 'based on novel'}, {'id':...\n",
            "4  11862  [{'id': 1009, 'name': 'baby'}, {'id': 1599, 'n...\n",
            "                                                cast  \\\n",
            "0  [{'cast_id': 14, 'character': 'Woody (voice)',...   \n",
            "1  [{'cast_id': 1, 'character': 'Alan Parrish', '...   \n",
            "2  [{'cast_id': 2, 'character': 'Max Goldman', 'c...   \n",
            "3  [{'cast_id': 1, 'character': \"Savannah 'Vannah...   \n",
            "4  [{'cast_id': 1, 'character': 'George Banks', '...   \n",
            "\n",
            "                                                crew     id  \n",
            "0  [{'credit_id': '52fe4284c3a36847f8024f49', 'de...    862  \n",
            "1  [{'credit_id': '52fe44bfc3a36847f80a7cd1', 'de...   8844  \n",
            "2  [{'credit_id': '52fe466a9251416c75077a89', 'de...  15602  \n",
            "3  [{'credit_id': '52fe44779251416c91011acb', 'de...  31357  \n",
            "4  [{'credit_id': '52fe44959251416c75039ed7', 'de...  11862  \n",
            "   movieId  imdbId   tmdbId\n",
            "0        1  114709    862.0\n",
            "1        2  113497   8844.0\n",
            "2        3  113228  15602.0\n",
            "3        4  114885  31357.0\n",
            "4        5  113041  11862.0\n",
            "   movieId  imdbId   tmdbId\n",
            "0        1  114709    862.0\n",
            "1        2  113497   8844.0\n",
            "2        3  113228  15602.0\n",
            "3        4  114885  31357.0\n",
            "4        5  113041  11862.0\n",
            "   userId  movieId  rating   timestamp\n",
            "0       1       31     2.5  1260759144\n",
            "1       1     1029     3.0  1260759179\n",
            "2       1     1061     3.0  1260759182\n",
            "3       1     1129     2.0  1260759185\n",
            "4       1     1172     4.0  1260759205\n"
          ]
        }
      ]
    },
    {
      "cell_type": "code",
      "source": [
        "movies = movies[['id', 'title', 'genres', 'release_date', 'runtime', 'vote_average', 'vote_count']]\n",
        "\n",
        "movies['id'] = pd.to_numeric(movies['id'], errors='coerce')\n",
        "movies = movies.dropna(subset=['id'])\n",
        "movies['id'] = movies['id'].astype(int)\n",
        "\n",
        "movies['release_date'] = pd.to_datetime(movies['release_date'], errors='coerce')\n",
        "movies['release_date'] = movies['release_date'].fillna(pd.to_datetime('1900-01-01'))\n",
        "\n",
        "import ast\n",
        "\n",
        "def parse_genres(genre_str):\n",
        "    try:\n",
        "        genres = ast.literal_eval(genre_str)\n",
        "        genre_names = [genre['name'] for genre in genres]\n",
        "        return ', '.join(genre_names)\n",
        "    except:\n",
        "        return ''\n",
        "\n",
        "movies['genres'] = movies['genres'].apply(parse_genres)\n",
        "\n",
        "print(movies.head())\n"
      ],
      "metadata": {
        "colab": {
          "base_uri": "https://localhost:8080/"
        },
        "id": "eUdhyFN_4RTs",
        "outputId": "a131b0ac-ef7a-46d2-e1bb-dd4a6d9639e0"
      },
      "execution_count": null,
      "outputs": [
        {
          "output_type": "stream",
          "name": "stderr",
          "text": [
            "<ipython-input-3-8ad29f516427>:3: SettingWithCopyWarning: \n",
            "A value is trying to be set on a copy of a slice from a DataFrame.\n",
            "Try using .loc[row_indexer,col_indexer] = value instead\n",
            "\n",
            "See the caveats in the documentation: https://pandas.pydata.org/pandas-docs/stable/user_guide/indexing.html#returning-a-view-versus-a-copy\n",
            "  movies['id'] = pd.to_numeric(movies['id'], errors='coerce')\n"
          ]
        },
        {
          "output_type": "stream",
          "name": "stdout",
          "text": [
            "      id                        title                      genres  \\\n",
            "0    862                    Toy Story   Animation, Comedy, Family   \n",
            "1   8844                      Jumanji  Adventure, Fantasy, Family   \n",
            "2  15602             Grumpier Old Men             Romance, Comedy   \n",
            "3  31357            Waiting to Exhale      Comedy, Drama, Romance   \n",
            "4  11862  Father of the Bride Part II                      Comedy   \n",
            "\n",
            "  release_date  runtime  vote_average  vote_count  \n",
            "0   1995-10-30     81.0           7.7      5415.0  \n",
            "1   1995-12-15    104.0           6.9      2413.0  \n",
            "2   1995-12-22    101.0           6.5        92.0  \n",
            "3   1995-12-22    127.0           6.1        34.0  \n",
            "4   1995-02-10    106.0           5.7       173.0  \n"
          ]
        }
      ]
    },
    {
      "cell_type": "code",
      "source": [
        "keywords['id'] = pd.to_numeric(keywords['id'], errors='coerce')\n",
        "keywords = keywords.dropna(subset=['id'])\n",
        "keywords['id'] = keywords['id'].astype(int)\n",
        "\n",
        "def parse_keywords(keyword_str):\n",
        "    try:\n",
        "        keywords = ast.literal_eval(keyword_str)\n",
        "        keyword_names = [keyword['name'] for keyword in keywords]\n",
        "        return ', '.join(keyword_names)\n",
        "    except:\n",
        "        return ''\n",
        "\n",
        "keywords['keywords'] = keywords['keywords'].apply(parse_keywords)\n",
        "\n",
        "print(keywords.head())\n"
      ],
      "metadata": {
        "colab": {
          "base_uri": "https://localhost:8080/"
        },
        "id": "BEHDNvSB4RV6",
        "outputId": "7a37caa0-10af-4ffc-9a86-d425ea044c56"
      },
      "execution_count": null,
      "outputs": [
        {
          "output_type": "stream",
          "name": "stdout",
          "text": [
            "      id                                           keywords\n",
            "0    862  jealousy, toy, boy, friendship, friends, rival...\n",
            "1   8844  board game, disappearance, based on children's...\n",
            "2  15602  fishing, best friend, duringcreditsstinger, ol...\n",
            "3  31357  based on novel, interracial relationship, sing...\n",
            "4  11862  baby, midlife crisis, confidence, aging, daugh...\n"
          ]
        }
      ]
    },
    {
      "cell_type": "code",
      "source": [
        "credits['id'] = pd.to_numeric(credits['id'], errors='coerce')\n",
        "credits = credits.dropna(subset=['id'])\n",
        "credits['id'] = credits['id'].astype(int)\n",
        "\n",
        "def get_director(crew_data):\n",
        "    try:\n",
        "        crew = ast.literal_eval(crew_data)\n",
        "        for member in crew:\n",
        "            if member['job'] == 'Director':\n",
        "                return member['name']\n",
        "        return ''\n",
        "    except:\n",
        "        return ''\n",
        "\n",
        "def get_top_cast(cast_data, top_n=3):\n",
        "    try:\n",
        "        cast = ast.literal_eval(cast_data)\n",
        "        cast_names = [member['name'] for member in cast[:top_n]]\n",
        "        return ', '.join(cast_names)\n",
        "    except:\n",
        "        return ''\n",
        "\n",
        "credits['director'] = credits['crew'].apply(get_director)\n",
        "credits['top_cast'] = credits['cast'].apply(get_top_cast)\n",
        "\n",
        "credits = credits.drop(columns=['cast', 'crew'])\n",
        "\n",
        "print(credits.head())\n"
      ],
      "metadata": {
        "colab": {
          "base_uri": "https://localhost:8080/"
        },
        "id": "OY-Ec9794RYZ",
        "outputId": "834dbb54-6f4b-4dc5-8c0a-221d3998b200"
      },
      "execution_count": null,
      "outputs": [
        {
          "output_type": "stream",
          "name": "stdout",
          "text": [
            "      id         director                                         top_cast\n",
            "0    862    John Lasseter                Tom Hanks, Tim Allen, Don Rickles\n",
            "1   8844     Joe Johnston     Robin Williams, Jonathan Hyde, Kirsten Dunst\n",
            "2  15602    Howard Deutch         Walter Matthau, Jack Lemmon, Ann-Margret\n",
            "3  31357  Forest Whitaker  Whitney Houston, Angela Bassett, Loretta Devine\n",
            "4  11862    Charles Shyer         Steve Martin, Diane Keaton, Martin Short\n"
          ]
        }
      ]
    },
    {
      "cell_type": "code",
      "source": [
        "links['tmdbId'] = pd.to_numeric(links['tmdbId'], errors='coerce')\n",
        "links_small['tmdbId'] = pd.to_numeric(links_small['tmdbId'], errors='coerce')\n",
        "\n",
        "print(links.head())\n",
        "print(links_small.head())\n"
      ],
      "metadata": {
        "colab": {
          "base_uri": "https://localhost:8080/"
        },
        "id": "-5Pmxs7v4RcC",
        "outputId": "39ce4076-bb95-4147-b8e8-f199e6a89e6c"
      },
      "execution_count": null,
      "outputs": [
        {
          "output_type": "stream",
          "name": "stdout",
          "text": [
            "   movieId  imdbId   tmdbId\n",
            "0        1  114709    862.0\n",
            "1        2  113497   8844.0\n",
            "2        3  113228  15602.0\n",
            "3        4  114885  31357.0\n",
            "4        5  113041  11862.0\n",
            "   movieId  imdbId   tmdbId\n",
            "0        1  114709    862.0\n",
            "1        2  113497   8844.0\n",
            "2        3  113228  15602.0\n",
            "3        4  114885  31357.0\n",
            "4        5  113041  11862.0\n"
          ]
        }
      ]
    },
    {
      "cell_type": "code",
      "source": [
        "ratings['timestamp'] = pd.to_datetime(ratings['timestamp'], unit='s')\n",
        "\n",
        "print(ratings.head())\n"
      ],
      "metadata": {
        "colab": {
          "base_uri": "https://localhost:8080/"
        },
        "id": "qBume2Ay4Rep",
        "outputId": "706037db-07a3-45e2-c1cc-d77d71e46817"
      },
      "execution_count": null,
      "outputs": [
        {
          "output_type": "stream",
          "name": "stdout",
          "text": [
            "   userId  movieId  rating           timestamp\n",
            "0       1       31     2.5 2009-12-14 02:52:24\n",
            "1       1     1029     3.0 2009-12-14 02:52:59\n",
            "2       1     1061     3.0 2009-12-14 02:53:02\n",
            "3       1     1129     2.0 2009-12-14 02:53:05\n",
            "4       1     1172     4.0 2009-12-14 02:53:25\n"
          ]
        }
      ]
    },
    {
      "cell_type": "code",
      "source": [],
      "metadata": {
        "id": "1jGcHTCE4Rgu"
      },
      "execution_count": null,
      "outputs": []
    },
    {
      "cell_type": "code",
      "source": [
        "movies_with_credits = pd.merge(movies, credits, left_on='id', right_on='id', how='left')\n",
        "\n",
        "movies_with_metadata = pd.merge(movies_with_credits, keywords, left_on='id', right_on='id', how='left')\n",
        "\n",
        "movies_with_metadata = pd.merge(movies_with_metadata, links_small, left_on='id', right_on='tmdbId', how='left')\n",
        "\n",
        "merged_data = pd.merge(ratings, movies_with_metadata, left_on='movieId', right_on='movieId', how='left')\n",
        "\n",
        "print(merged_data.head())\n"
      ],
      "metadata": {
        "colab": {
          "base_uri": "https://localhost:8080/"
        },
        "id": "5nxy0GmG4Rj1",
        "outputId": "011a372e-8e66-4672-aba6-0aa8ca9230d3"
      },
      "execution_count": null,
      "outputs": [
        {
          "output_type": "stream",
          "name": "stdout",
          "text": [
            "   userId  movieId  rating           timestamp       id                 title  \\\n",
            "0       1       31     2.5 2009-12-14 02:52:24   9909.0       Dangerous Minds   \n",
            "1       1     1029     3.0 2009-12-14 02:52:59  11360.0                 Dumbo   \n",
            "2       1     1061     3.0 2009-12-14 02:53:02    819.0              Sleepers   \n",
            "3       1     1129     2.0 2009-12-14 02:53:05   1103.0  Escape from New York   \n",
            "4       1     1172     4.0 2009-12-14 02:53:25  11216.0       Cinema Paradiso   \n",
            "\n",
            "                    genres release_date  runtime  vote_average  vote_count  \\\n",
            "0             Drama, Crime   1995-08-11     99.0           6.4       249.0   \n",
            "1        Animation, Family   1941-10-22     64.0           6.8      1206.0   \n",
            "2   Crime, Drama, Thriller   1996-10-18    147.0           7.3       729.0   \n",
            "3  Science Fiction, Action   1981-05-22     99.0           6.9       720.0   \n",
            "4           Drama, Romance   1988-11-17    124.0           8.2       834.0   \n",
            "\n",
            "             director                                           top_cast  \\\n",
            "0       John N. Smith  Michelle Pfeiffer, George Dzundza, Courtney B....   \n",
            "1    Samuel Armstrong       Sterling Holloway, Herman Bing, John McLeish   \n",
            "2      Barry Levinson             Robert De Niro, Brad Pitt, Kevin Bacon   \n",
            "3      John Carpenter       Kurt Russell, Lee Van Cleef, Ernest Borgnine   \n",
            "4  Giuseppe Tornatore    Philippe Noiret, Jacques Perrin, Marco Leonardi   \n",
            "\n",
            "                                            keywords    imdbId   tmdbId  \n",
            "0  rap music, karate, high school, naval officer,...  112792.0   9909.0  \n",
            "1  circus, mother, dream, mouse, elephant, nightm...   33563.0  11360.0  \n",
            "2  child abuse, sadistic, sexual abuse, pastor, r...  117665.0    819.0  \n",
            "3  taxi, street gang, usa president, war veteran,...   82340.0   1103.0  \n",
            "4  sicily, cinema, film director, kiss, coming of...   95765.0  11216.0  \n"
          ]
        }
      ]
    },
    {
      "cell_type": "code",
      "source": [
        "print(merged_data.isnull().sum())\n",
        "\n",
        "merged_data['genres'] = merged_data['genres'].fillna('Unknown')\n",
        "merged_data['director'] = merged_data['director'].fillna('Unknown')\n",
        "merged_data['top_cast'] = merged_data['top_cast'].fillna('Unknown')\n",
        "merged_data['keywords'] = merged_data['keywords'].fillna('')\n",
        "\n",
        "merged_data = merged_data.dropna(subset=['rating', 'title'])\n",
        "\n",
        "print(merged_data.isnull().sum())"
      ],
      "metadata": {
        "colab": {
          "base_uri": "https://localhost:8080/"
        },
        "id": "rfDtxbTy4Rlm",
        "outputId": "668ab98f-a50e-4973-c096-939e5e735aba"
      },
      "execution_count": null,
      "outputs": [
        {
          "output_type": "stream",
          "name": "stdout",
          "text": [
            "userId            0\n",
            "movieId           0\n",
            "rating            0\n",
            "timestamp         0\n",
            "id              194\n",
            "title           194\n",
            "genres          194\n",
            "release_date    194\n",
            "runtime         194\n",
            "vote_average    194\n",
            "vote_count      194\n",
            "director        194\n",
            "top_cast        194\n",
            "keywords        194\n",
            "imdbId          194\n",
            "tmdbId          194\n",
            "dtype: int64\n",
            "userId          0\n",
            "movieId         0\n",
            "rating          0\n",
            "timestamp       0\n",
            "id              0\n",
            "title           0\n",
            "genres          0\n",
            "release_date    0\n",
            "runtime         0\n",
            "vote_average    0\n",
            "vote_count      0\n",
            "director        0\n",
            "top_cast        0\n",
            "keywords        0\n",
            "imdbId          0\n",
            "tmdbId          0\n",
            "dtype: int64\n"
          ]
        }
      ]
    },
    {
      "cell_type": "code",
      "source": [
        "C = merged_data['vote_average'].mean()\n",
        "m = merged_data['vote_count'].quantile(0.90)\n",
        "\n",
        "def weighted_rating(x, m=m, C=C):\n",
        "    v = x['vote_count']\n",
        "    R = x['vote_average']\n",
        "    return (v/(v+m) * R) + (m/(m+v) * C)\n",
        "\n",
        "merged_data['weighted_rating'] = merged_data.apply(weighted_rating, axis=1)\n",
        "\n",
        "print(merged_data.head())\n"
      ],
      "metadata": {
        "colab": {
          "base_uri": "https://localhost:8080/"
        },
        "id": "-AHnzgFQ4RoR",
        "outputId": "2e8d8933-3531-4bc8-8f66-d7b94631e4e1"
      },
      "execution_count": null,
      "outputs": [
        {
          "output_type": "stream",
          "name": "stdout",
          "text": [
            "   userId  movieId  rating           timestamp       id                 title  \\\n",
            "0       1       31     2.5 2009-12-14 02:52:24   9909.0       Dangerous Minds   \n",
            "1       1     1029     3.0 2009-12-14 02:52:59  11360.0                 Dumbo   \n",
            "2       1     1061     3.0 2009-12-14 02:53:02    819.0              Sleepers   \n",
            "3       1     1129     2.0 2009-12-14 02:53:05   1103.0  Escape from New York   \n",
            "4       1     1172     4.0 2009-12-14 02:53:25  11216.0       Cinema Paradiso   \n",
            "\n",
            "                    genres release_date  runtime  vote_average  vote_count  \\\n",
            "0             Drama, Crime   1995-08-11     99.0           6.4       249.0   \n",
            "1        Animation, Family   1941-10-22     64.0           6.8      1206.0   \n",
            "2   Crime, Drama, Thriller   1996-10-18    147.0           7.3       729.0   \n",
            "3  Science Fiction, Action   1981-05-22     99.0           6.9       720.0   \n",
            "4           Drama, Romance   1988-11-17    124.0           8.2       834.0   \n",
            "\n",
            "             director                                           top_cast  \\\n",
            "0       John N. Smith  Michelle Pfeiffer, George Dzundza, Courtney B....   \n",
            "1    Samuel Armstrong       Sterling Holloway, Herman Bing, John McLeish   \n",
            "2      Barry Levinson             Robert De Niro, Brad Pitt, Kevin Bacon   \n",
            "3      John Carpenter       Kurt Russell, Lee Van Cleef, Ernest Borgnine   \n",
            "4  Giuseppe Tornatore    Philippe Noiret, Jacques Perrin, Marco Leonardi   \n",
            "\n",
            "                                            keywords    imdbId   tmdbId  \\\n",
            "0  rap music, karate, high school, naval officer,...  112792.0   9909.0   \n",
            "1  circus, mother, dream, mouse, elephant, nightm...   33563.0  11360.0   \n",
            "2  child abuse, sadistic, sexual abuse, pastor, r...  117665.0    819.0   \n",
            "3  taxi, street gang, usa president, war veteran,...   82340.0   1103.0   \n",
            "4  sicily, cinema, film director, kiss, coming of...   95765.0  11216.0   \n",
            "\n",
            "   weighted_rating  \n",
            "0         6.847295  \n",
            "1         6.857130  \n",
            "2         6.934735  \n",
            "3         6.876929  \n",
            "4         7.087841  \n"
          ]
        }
      ]
    },
    {
      "cell_type": "code",
      "source": [
        "import re\n",
        "from sklearn.feature_extraction.text import TfidfVectorizer\n",
        "from sklearn.decomposition import TruncatedSVD\n",
        "from sklearn.metrics.pairwise import cosine_similarity\n",
        "from sklearn.model_selection import train_test_split\n",
        "from nltk.corpus import stopwords\n",
        "from nltk.stem import PorterStemmer\n",
        "from nltk.tokenize import word_tokenize\n",
        "import nltk\n",
        "\n",
        "import nltk\n",
        "nltk.download('punkt')\n",
        "nltk.download('stopwords')\n",
        "\n",
        "stop_words = set(stopwords.words('english'))\n",
        "stemmer = PorterStemmer()\n"
      ],
      "metadata": {
        "id": "IE5MS-Mv4Rqo",
        "colab": {
          "base_uri": "https://localhost:8080/"
        },
        "outputId": "4d9f7b01-2419-4342-aa83-841c1f2dce4b"
      },
      "execution_count": null,
      "outputs": [
        {
          "output_type": "stream",
          "name": "stderr",
          "text": [
            "[nltk_data] Downloading package punkt to /root/nltk_data...\n",
            "[nltk_data]   Unzipping tokenizers/punkt.zip.\n",
            "[nltk_data] Downloading package stopwords to /root/nltk_data...\n",
            "[nltk_data]   Unzipping corpora/stopwords.zip.\n"
          ]
        }
      ]
    },
    {
      "cell_type": "code",
      "source": [
        "def preprocess_text(text):\n",
        "    text = re.sub(r'[^a-zA-Z\\s]', '', text)\n",
        "    text = text.lower()\n",
        "    words = word_tokenize(text)\n",
        "    words = [stemmer.stem(word) for word in words if word not in stop_words]\n",
        "    return ' '.join(words)\n",
        "\n",
        "merged_data['combined_features'] = (\n",
        "    merged_data['genres'].fillna('') + ' ' +\n",
        "    merged_data['director'].fillna('') + ' ' +\n",
        "    merged_data['top_cast'].fillna('') + ' ' +\n",
        "    merged_data['keywords'].fillna('')).apply(preprocess_text)\n",
        "\n",
        "merged_data = merged_data.drop(columns=['genres', 'director', 'top_cast', 'keywords'])\n",
        "\n",
        "\n",
        "tfidf = TfidfVectorizer(stop_words='english', max_features=1000)\n",
        "tfidf_matrix = tfidf.fit_transform(merged_data['combined_features'])\n",
        "\n",
        "svd = TruncatedSVD(n_components=100)\n",
        "tfidf_matrix_reduced = svd.fit_transform(tfidf_matrix)\n",
        "\n",
        "cosine_sim = cosine_similarity(tfidf_matrix_reduced, tfidf_matrix_reduced)\n"
      ],
      "metadata": {
        "id": "kfciMTEFwaLS"
      },
      "execution_count": null,
      "outputs": []
    },
    {
      "cell_type": "code",
      "source": [
        "def get_recommendations(titles, cosine_sim=cosine_sim, data=merged_data, top_n=10):\n",
        "    recommended_titles = []\n",
        "\n",
        "    for title in titles:\n",
        "        if title in data['title'].values:\n",
        "            idx = data[data['title'] == title].index[0]\n",
        "\n",
        "            sim_scores = list(enumerate(cosine_sim[idx]))\n",
        "\n",
        "            sim_scores = sorted(sim_scores, key=lambda x: x[1], reverse=True)\n",
        "\n",
        "            sim_scores = sim_scores[1:top_n + 1]\n",
        "\n",
        "            movie_indices = [i[0] for i in sim_scores]\n",
        "\n",
        "            recommended_titles.extend(data['title'].iloc[movie_indices].drop_duplicates().tolist())\n",
        "        else:\n",
        "            print(f\"Title '{title}' not found in the dataset.\")\n",
        "\n",
        "    recommended_titles = list(dict.fromkeys(recommended_titles))\n",
        "\n",
        "    return recommended_titles[:top_n]\n"
      ],
      "metadata": {
        "id": "Okw5xpcFwaPz"
      },
      "execution_count": null,
      "outputs": []
    },
    {
      "cell_type": "code",
      "source": [
        "titles = ['The Godfather', 'The Dark Knight', 'Pulp Fiction']\n",
        "recommendations = get_recommendations(titles)\n",
        "print(recommendations)\n",
        "print(\"\\n\")\n",
        "print(len(recommendations))\n",
        "print(\"\\n\")"
      ],
      "metadata": {
        "colab": {
          "base_uri": "https://localhost:8080/"
        },
        "id": "r28PsBWpYxG3",
        "outputId": "6d0c210a-f0f0-4d32-88e5-304efca8a1f9"
      },
      "execution_count": null,
      "outputs": [
        {
          "output_type": "stream",
          "name": "stdout",
          "text": [
            "['Vertigo', 'No End in Sight', 'loudQUIETloud: A Film About the Pixies', 'Powaqqatsi', 'Naqoyqatsi', 'It Might Get Loud', 'Beauty Is Embarrassing', 'Standing in the Shadows of Motown', 'Pulp Fiction']\n",
            "\n",
            "\n",
            "9\n",
            "\n",
            "\n"
          ]
        }
      ]
    },
    {
      "cell_type": "code",
      "source": [
        "\n"
      ],
      "metadata": {
        "id": "-7m97TVFY-aP"
      },
      "execution_count": null,
      "outputs": []
    },
    {
      "cell_type": "code",
      "source": [
        "from sklearn.metrics import mean_squared_error, mean_absolute_error"
      ],
      "metadata": {
        "id": "cMSh5rhAEk9E"
      },
      "execution_count": null,
      "outputs": []
    },
    {
      "cell_type": "code",
      "source": [
        "ratings['userId'] = ratings['userId'].astype(np.int32)\n",
        "ratings['movieId'] = ratings['movieId'].astype(np.int32)\n",
        "ratings['rating'] = ratings['rating'].astype(np.float32)\n",
        "\n",
        "merged_data['id'] = merged_data['id'].astype(np.int32)\n"
      ],
      "metadata": {
        "id": "xm_ZuxqhEk_g"
      },
      "execution_count": null,
      "outputs": []
    },
    {
      "cell_type": "code",
      "source": [
        "train_data, test_data = train_test_split(ratings, test_size=0.2, random_state=42)\n",
        "\n",
        "train_merged = pd.merge(train_data, merged_data,\n",
        "                        left_on='movieId', right_on='id', how='left')\n",
        "test_merged = pd.merge(test_data, merged_data,\n",
        "                       left_on='movieId', right_on='id', how='left')\n"
      ],
      "metadata": {
        "id": "9tb-0_1SFHNq"
      },
      "execution_count": null,
      "outputs": []
    },
    {
      "cell_type": "code",
      "source": [
        "def predict_rating(user_id, movie_id, train_data=train_merged, cosine_sim=cosine_sim):\n",
        "    if movie_id not in train_data['movieId_x'].values or movie_id not in train_data['movieId_x'].unique():\n",
        "        return np.nan\n",
        "\n",
        "    movie_idx_train = train_data[train_data['movieId_x'] == movie_id].index[0]\n",
        "\n",
        "    movie_idx_sim = train_data['movieId_x'].unique().tolist().index(movie_id)\n",
        "\n",
        "    if movie_idx_sim < len(cosine_sim):\n",
        "        sim_scores = cosine_sim[movie_idx_sim]\n",
        "        similar_indices = np.argsort(sim_scores)[::-1][1:11]\n",
        "        similar_movies = train_data.iloc[similar_indices]\n",
        "        user_ratings = similar_movies[similar_movies['userId_x'] == user_id]['rating_x']\n",
        "\n",
        "        if not user_ratings.empty:\n",
        "            return user_ratings.mean()\n",
        "        else:\n",
        "            return train_data[train_data['movieId_x'] == movie_id]['rating_x'].mean()\n",
        "    else:\n",
        "        return np.nan\n",
        "\n",
        "chunk_size = 1000\n",
        "num_chunks = int(np.ceil(len(test_merged) / chunk_size))\n",
        "\n",
        "results = []\n",
        "\n",
        "for i in range(num_chunks):\n",
        "    chunk = test_merged.iloc[i*chunk_size:(i+1)*chunk_size].copy()\n",
        "    chunk['predicted_rating'] = chunk.apply(lambda x: predict_rating(x['userId_x'], x['movieId_x']), axis=1)\n",
        "    chunk = chunk.dropna(subset=['predicted_rating'])\n",
        "    results.append(chunk)\n",
        "\n",
        "final_results = pd.concat(results)\n",
        "\n",
        "mse = mean_squared_error(final_results['rating_x'], final_results['predicted_rating'])\n",
        "print(f'MSE: {mse}')\n",
        "mae = mean_absolute_error(final_results['rating_x'], final_results['predicted_rating'])\n",
        "print(f'MSE: {mae}')\n",
        "\n"
      ],
      "metadata": {
        "colab": {
          "base_uri": "https://localhost:8080/"
        },
        "id": "1-FXc2zDElCI",
        "outputId": "50d67f10-787e-466f-edb1-5a1165c8db52"
      },
      "execution_count": null,
      "outputs": [
        {
          "output_type": "stream",
          "name": "stdout",
          "text": [
            "MSE: 0.9822622192361159\n",
            "MSE: 0.7646929921818708\n"
          ]
        }
      ]
    },
    {
      "cell_type": "code",
      "source": [],
      "metadata": {
        "id": "3USD2JzlwxVB"
      },
      "execution_count": null,
      "outputs": []
    },
    {
      "cell_type": "code",
      "source": [],
      "metadata": {
        "id": "jzUS8PPz3hod"
      },
      "execution_count": null,
      "outputs": []
    },
    {
      "cell_type": "code",
      "source": [],
      "metadata": {
        "id": "0nB-TQQJ3hqw"
      },
      "execution_count": null,
      "outputs": []
    }
  ]
}